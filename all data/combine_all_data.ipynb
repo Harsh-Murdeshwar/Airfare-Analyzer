{
 "cells": [
  {
   "cell_type": "code",
   "execution_count": 1,
   "metadata": {},
   "outputs": [],
   "source": [
    "import csv\n",
    "import datetime\n",
    "import os\n",
    "import re\n",
    "import pandas as pd"
   ]
  },
  {
   "cell_type": "code",
   "execution_count": 2,
   "metadata": {},
   "outputs": [],
   "source": [
    "home_cities = [\"bom\",\"del\",\"blr\"]\n",
    "college_city = \"knu\"\n",
    "data_dir = \".\""
   ]
  },
  {
   "cell_type": "code",
   "execution_count": 3,
   "metadata": {},
   "outputs": [],
   "source": [
    "def get_files(file_re):\n",
    "    files = []\n",
    "    for filename in os.listdir(data_dir):\n",
    "        if re.search(file_re, filename):\n",
    "            files.append(data_dir + \"/\" + filename)\n",
    "    return files\n",
    "\n",
    "def get_csv_data(filename):\n",
    "    data = []\n",
    "    with open(filename, 'r') as f:\n",
    "        b = csv.reader(f)\n",
    "        next(b)\n",
    "        for row in b:\n",
    "            data.append(row)\n",
    "    return data"
   ]
  },
  {
   "cell_type": "code",
   "execution_count": 4,
   "metadata": {},
   "outputs": [],
   "source": [
    "all_data = []\n",
    "\n",
    "for home_city in home_cities:\n",
    "    \n",
    "    file_re = \"compiled_all_data_\" + home_city + \"_to_\" + college_city + \".csv\"\n",
    "    files = get_files(file_re)\n",
    "    for file in files:\n",
    "        data = get_csv_data(file)\n",
    "        for row in data:\n",
    "            all_data.append([home_city, college_city] + row)\n",
    "\n",
    "    file_re = \"compiled_all_data_\" + college_city + \"_to_\" + home_city + \".csv\"\n",
    "    files = get_files(file_re)\n",
    "    for file in files:\n",
    "        data = get_csv_data(file)\n",
    "        for row in data:\n",
    "                all_data.append([college_city, home_city] + row)"
   ]
  },
  {
   "cell_type": "code",
   "execution_count": 5,
   "metadata": {},
   "outputs": [],
   "source": [
    "headings = [\"source\",\"destination\",\"booking_date\",\"travel_date\",\"price\"]\n",
    "df = pd.DataFrame(all_data, columns=headings)\n",
    "df.to_csv(\"complied_all_data.csv\",index=False)"
   ]
  },
  {
   "cell_type": "code",
   "execution_count": null,
   "metadata": {},
   "outputs": [],
   "source": []
  }
 ],
 "metadata": {
  "kernelspec": {
   "display_name": "Python 3",
   "language": "python",
   "name": "python3"
  },
  "language_info": {
   "codemirror_mode": {
    "name": "ipython",
    "version": 3
   },
   "file_extension": ".py",
   "mimetype": "text/x-python",
   "name": "python",
   "nbconvert_exporter": "python",
   "pygments_lexer": "ipython3",
   "version": "3.10.5"
  }
 },
 "nbformat": 4,
 "nbformat_minor": 2
}
