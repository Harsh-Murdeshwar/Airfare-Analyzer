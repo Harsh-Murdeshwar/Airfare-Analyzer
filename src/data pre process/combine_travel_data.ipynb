{
 "cells": [
  {
   "cell_type": "code",
   "execution_count": 19,
   "metadata": {},
   "outputs": [],
   "source": [
    "import csv\n",
    "import datetime\n",
    "import os\n",
    "import re\n",
    "import pandas as pd"
   ]
  },
  {
   "cell_type": "code",
   "execution_count": 20,
   "metadata": {},
   "outputs": [],
   "source": [
    "home_cities = [\"bom\",\"del\",\"blr\"]\n",
    "college_city = \"knu\"\n",
    "data_dir = \"travel_day_data\""
   ]
  },
  {
   "cell_type": "code",
   "execution_count": 21,
   "metadata": {},
   "outputs": [],
   "source": [
    "def get_files(file_re):\n",
    "    files = []\n",
    "    for filename in os.listdir(data_dir):\n",
    "        if re.search(file_re, filename):\n",
    "            files.append(data_dir + \"/\" + filename)\n",
    "    return files\n",
    "\n",
    "def get_csv_data(filename):\n",
    "    data = []\n",
    "    with open(filename, 'r') as f:\n",
    "        b = csv.reader(f)\n",
    "        for row in b:\n",
    "            data.append(row[0])\n",
    "    return data"
   ]
  },
  {
   "cell_type": "code",
   "execution_count": 22,
   "metadata": {},
   "outputs": [],
   "source": [
    "def get_booking_date(filename):\n",
    "        day = filename[-6:-4]\n",
    "        month = filename[-9:-7]\n",
    "        year = filename[-12:-10]\n",
    "        return '20' + year + '-' + month + '-' + day\n",
    "\n",
    "def get_row_info(row):\n",
    "    \n",
    "    \n",
    "    def get_travel_year(row_date):\n",
    "        if row_date.month < 9:\n",
    "            return \"2025\"\n",
    "        else:\n",
    "            return \"2024\"\n",
    "        \n",
    "    def get_travel_month(month):\n",
    "        if month < 10:\n",
    "            return '0' + str(month)\n",
    "        else:\n",
    "            return str(month)\n",
    "        \n",
    "    def get_travel_day(day):\n",
    "        if day < 10:\n",
    "            return '0' + str(day)\n",
    "        else:\n",
    "            return str(day)\n",
    "        \n",
    "    if \"There are no flights on this date\" in row:\n",
    "        price = -1\n",
    "    else:\n",
    "        price = int(row.split('â‚¹')[1].replace(',',''))\n",
    "    x = datetime.datetime.strptime(row.split('\\n')[1], \"%a, %b %d\")\n",
    "    row_date = str(get_travel_year(x)) + \"-\" + get_travel_month(x.month) + \"-\" + get_travel_day(x.day)\n",
    "    \n",
    "    return [row_date, price]"
   ]
  },
  {
   "cell_type": "code",
   "execution_count": 23,
   "metadata": {},
   "outputs": [],
   "source": [
    "all_data = []\n",
    "\n",
    "for home_city in home_cities:\n",
    "    \n",
    "    file_re = home_city + \"_to_\" + college_city + \".*\"\n",
    "    files = get_files(file_re)\n",
    "    for file in files:\n",
    "        booking_date = get_booking_date(file)\n",
    "        data = get_csv_data(file)\n",
    "        for row in data:\n",
    "            if len(row)!=0 and \"Getting price\" not in row:\n",
    "                info = get_row_info(row)\n",
    "                all_data.append([home_city, college_city, booking_date] + info)\n",
    "\n",
    "    file_re = college_city + \"_to_\" + home_city + \".*\"\n",
    "    files = get_files(file_re)\n",
    "    for file in files:\n",
    "        booking_date = get_booking_date(file)\n",
    "        data = get_csv_data(file)\n",
    "        for row in data:\n",
    "            if len(row)!=0 and \"Getting price\" not in row:\n",
    "                info = get_row_info(row)\n",
    "                all_data.append([college_city, home_city, booking_date] + info)"
   ]
  },
  {
   "cell_type": "code",
   "execution_count": 24,
   "metadata": {},
   "outputs": [],
   "source": [
    "headings = [\"source\",\"destination\",\"booking_date\",\"travel_date\",\"price\"]\n",
    "df = pd.DataFrame(all_data, columns=headings)\n",
    "df.to_csv(\"complied_travel_data.csv\",index=False)"
   ]
  },
  {
   "cell_type": "code",
   "execution_count": null,
   "metadata": {},
   "outputs": [],
   "source": []
  }
 ],
 "metadata": {
  "kernelspec": {
   "display_name": ".venv",
   "language": "python",
   "name": "python3"
  },
  "language_info": {
   "codemirror_mode": {
    "name": "ipython",
    "version": 3
   },
   "file_extension": ".py",
   "mimetype": "text/x-python",
   "name": "python",
   "nbconvert_exporter": "python",
   "pygments_lexer": "ipython3",
   "version": "3.11.0"
  }
 },
 "nbformat": 4,
 "nbformat_minor": 2
}
