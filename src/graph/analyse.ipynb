{
 "cells": [
  {
   "cell_type": "code",
   "execution_count": 40,
   "metadata": {},
   "outputs": [],
   "source": [
    "import pandas as pd"
   ]
  },
  {
   "cell_type": "code",
   "execution_count": 41,
   "metadata": {},
   "outputs": [],
   "source": [
    "df = pd.read_csv(\"all.csv\")"
   ]
  },
  {
   "cell_type": "code",
   "execution_count": 42,
   "metadata": {},
   "outputs": [],
   "source": [
    "data = list(df.values)"
   ]
  },
  {
   "cell_type": "code",
   "execution_count": 43,
   "metadata": {},
   "outputs": [],
   "source": [
    "final_data = {}\n",
    "for row in data:\n",
    "    key = row[0], row[1], row[2]\n",
    "    val = int(row[3])\n",
    "    if key in final_data:\n",
    "        final_data[key] = max(final_data[key], val)\n",
    "    else:\n",
    "        final_data[key] = val"
   ]
  },
  {
   "cell_type": "code",
   "execution_count": 44,
   "metadata": {},
   "outputs": [
    {
     "data": {
      "text/plain": [
       "54824"
      ]
     },
     "execution_count": 44,
     "metadata": {},
     "output_type": "execute_result"
    }
   ],
   "source": [
    "len(final_data.keys())"
   ]
  },
  {
   "cell_type": "code",
   "execution_count": 45,
   "metadata": {},
   "outputs": [],
   "source": [
    "CODES = [\"IXA\",\"AGX\",\"AGR\",\"AMD\",\"AJL\",\"ATQ\",\"IXU\",\"AYJ\",\"IXB\",\"BEK\",\"IXG\",\"BLR\",\"BHO\",\"BBI\",\"IXC\",\"MAA\",\"CJB\",\"DBR\",\"DED\",\"DEL\",\"DGH\",\"DHM\",\"DIB\",\"DMU\",\"DIU\",\"RDP\",\"GAY\",\"GOI\",\"GDB\",\"GOP\",\"GAU\",\"GWL\",\"HSR\",\"HBX\",\"HYD\",\"IMF\",\"IDR\",\"HGI\",\"JLR\",\"JGB\",\"JAI\",\"JSA\",\"IXJ\",\"JRG\",\"JDH\",\"JRH\",\"CDP\",\"CNN\",\"KNU\",\"HJR\",\"COK\",\"KLH\",\"CCU\",\"CCJ\",\"KJB\",\"IXL\",\"LKO\",\"IXM\",\"IXE\",\"BOM\",\"MYQ\",\"NAG\",\"ISK\",\"GOX\",\"PGH\",\"PAT\",\"IXZ\",\"IXD\",\"PNQ\",\"RPR\",\"RJA\",\"RAJ\",\"IXR\",\"SXV\",\"SHL\",\"SAG\",\"RQY\",\"IXS\",\"SXR\",\"STV\",\"TRV\",\"TRZ\",\"TIR\",\"TCR\",\"UDR\",\"BDQ\",\"VNS\",\"VGA\",\"VTZ\"]\n",
    "DAYS = [\"Sun\",\"Mon\",\"Tue\",\"Wed\",\"Thu\",\"Fri\",\"Sat\"]"
   ]
  },
  {
   "cell_type": "code",
   "execution_count": 46,
   "metadata": {},
   "outputs": [],
   "source": [
    "N = len(CODES)\n",
    "counter = [None] * N\n",
    "for ixf,from_c in enumerate(CODES):\n",
    "    counter[ixf] = 0, from_c\n",
    "    for to_c in CODES:\n",
    "        if from_c!=to_c:\n",
    "            for d in DAYS:\n",
    "                counter[ixf]=counter[ixf][0] + final_data[to_c, from_c, d] , counter[ixf][1]"
   ]
  },
  {
   "cell_type": "code",
   "execution_count": 47,
   "metadata": {},
   "outputs": [],
   "source": [
    "counter.sort()"
   ]
  },
  {
   "cell_type": "code",
   "execution_count": 48,
   "metadata": {},
   "outputs": [],
   "source": [
    "df = pd.DataFrame(y)\n",
    "df.to_csv(\"data_arrive.csv\", index=False)"
   ]
  },
  {
   "cell_type": "code",
   "execution_count": 49,
   "metadata": {},
   "outputs": [],
   "source": [
    "y = [(x[1], x[0]) for x in counter]"
   ]
  },
  {
   "cell_type": "code",
   "execution_count": 50,
   "metadata": {},
   "outputs": [
    {
     "data": {
      "text/html": [
       "<div>\n",
       "<style scoped>\n",
       "    .dataframe tbody tr th:only-of-type {\n",
       "        vertical-align: middle;\n",
       "    }\n",
       "\n",
       "    .dataframe tbody tr th {\n",
       "        vertical-align: top;\n",
       "    }\n",
       "\n",
       "    .dataframe thead th {\n",
       "        text-align: right;\n",
       "    }\n",
       "</style>\n",
       "<table border=\"1\" class=\"dataframe\">\n",
       "  <thead>\n",
       "    <tr style=\"text-align: right;\">\n",
       "      <th></th>\n",
       "      <th>0</th>\n",
       "      <th>1</th>\n",
       "      <th>2</th>\n",
       "    </tr>\n",
       "  </thead>\n",
       "  <tbody>\n",
       "    <tr>\n",
       "      <th>0</th>\n",
       "      <td>IXA</td>\n",
       "      <td>AGX</td>\n",
       "      <td>Mon</td>\n",
       "    </tr>\n",
       "    <tr>\n",
       "      <th>1</th>\n",
       "      <td>IXA</td>\n",
       "      <td>AGX</td>\n",
       "      <td>Tue</td>\n",
       "    </tr>\n",
       "    <tr>\n",
       "      <th>2</th>\n",
       "      <td>AGX</td>\n",
       "      <td>IXA</td>\n",
       "      <td>Sun</td>\n",
       "    </tr>\n",
       "    <tr>\n",
       "      <th>3</th>\n",
       "      <td>IXA</td>\n",
       "      <td>AGX</td>\n",
       "      <td>Wed</td>\n",
       "    </tr>\n",
       "    <tr>\n",
       "      <th>4</th>\n",
       "      <td>AGX</td>\n",
       "      <td>IXA</td>\n",
       "      <td>Mon</td>\n",
       "    </tr>\n",
       "    <tr>\n",
       "      <th>...</th>\n",
       "      <td>...</td>\n",
       "      <td>...</td>\n",
       "      <td>...</td>\n",
       "    </tr>\n",
       "    <tr>\n",
       "      <th>54819</th>\n",
       "      <td>VTZ</td>\n",
       "      <td>VGA</td>\n",
       "      <td>Wed</td>\n",
       "    </tr>\n",
       "    <tr>\n",
       "      <th>54820</th>\n",
       "      <td>VTZ</td>\n",
       "      <td>VGA</td>\n",
       "      <td>Thu</td>\n",
       "    </tr>\n",
       "    <tr>\n",
       "      <th>54821</th>\n",
       "      <td>VTZ</td>\n",
       "      <td>VGA</td>\n",
       "      <td>Fri</td>\n",
       "    </tr>\n",
       "    <tr>\n",
       "      <th>54822</th>\n",
       "      <td>VTZ</td>\n",
       "      <td>VGA</td>\n",
       "      <td>Sat</td>\n",
       "    </tr>\n",
       "    <tr>\n",
       "      <th>54823</th>\n",
       "      <td>IXA</td>\n",
       "      <td>AGX</td>\n",
       "      <td>Sun</td>\n",
       "    </tr>\n",
       "  </tbody>\n",
       "</table>\n",
       "<p>54824 rows × 3 columns</p>\n",
       "</div>"
      ],
      "text/plain": [
       "         0    1    2\n",
       "0      IXA  AGX  Mon\n",
       "1      IXA  AGX  Tue\n",
       "2      AGX  IXA  Sun\n",
       "3      IXA  AGX  Wed\n",
       "4      AGX  IXA  Mon\n",
       "...    ...  ...  ...\n",
       "54819  VTZ  VGA  Wed\n",
       "54820  VTZ  VGA  Thu\n",
       "54821  VTZ  VGA  Fri\n",
       "54822  VTZ  VGA  Sat\n",
       "54823  IXA  AGX  Sun\n",
       "\n",
       "[54824 rows x 3 columns]"
      ]
     },
     "execution_count": 50,
     "metadata": {},
     "output_type": "execute_result"
    }
   ],
   "source": [
    "df = pd.DataFrame(list(final_data))\n",
    "df"
   ]
  },
  {
   "cell_type": "code",
   "execution_count": 51,
   "metadata": {},
   "outputs": [],
   "source": [
    "cities = [\"JGB\",\"JRH\",\"SXV\",\"BEK\",\"GAY\",\"HJR\",\"MYQ\",\"PGH\",\"HGI\",\"DGH\",\"DIU\",\"JSA\",\"KNU\",\"SHL\",\"RQY\"]"
   ]
  },
  {
   "cell_type": "code",
   "execution_count": 52,
   "metadata": {},
   "outputs": [],
   "source": [
    "N = len(CODES)\n",
    "M = len(cities)\n",
    "friends = [set()] * M\n",
    "for ixf,from_c in enumerate(CODES):\n",
    "    counter[ixf] = 0, from_c\n",
    "    for to_c in CODES:\n",
    "        if from_c!=to_c:\n",
    "            if from_c in cities or to_c in cities:\n",
    "                for d in DAYS:\n",
    "                    counter[ixf]=counter[ixf][0] + final_data[from_c, to_c, d] + final_data[to_c, from_c, d], counter[ixf][1]"
   ]
  },
  {
   "cell_type": "code",
   "execution_count": null,
   "metadata": {},
   "outputs": [],
   "source": []
  },
  {
   "cell_type": "code",
   "execution_count": null,
   "metadata": {},
   "outputs": [],
   "source": []
  }
 ],
 "metadata": {
  "kernelspec": {
   "display_name": ".venv",
   "language": "python",
   "name": "python3"
  },
  "language_info": {
   "codemirror_mode": {
    "name": "ipython",
    "version": 3
   },
   "file_extension": ".py",
   "mimetype": "text/x-python",
   "name": "python",
   "nbconvert_exporter": "python",
   "pygments_lexer": "ipython3",
   "version": "3.11.0"
  }
 },
 "nbformat": 4,
 "nbformat_minor": 2
}
