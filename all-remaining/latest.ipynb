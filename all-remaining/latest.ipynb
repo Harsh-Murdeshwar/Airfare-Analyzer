{
 "cells": [
  {
   "cell_type": "code",
   "execution_count": 1,
   "metadata": {},
   "outputs": [],
   "source": [
    "import time\n",
    "import selenium\n",
    "from selenium import webdriver\n",
    "from selenium.webdriver.common.by import By\n",
    "from selenium.webdriver.common.keys import Keys\n",
    "from selenium.webdriver import ActionChains\n",
    "from selenium.webdriver.chrome import options as ChromeOptions\n",
    "from selenium.webdriver.support import expected_conditions as EC\n",
    "from selenium.webdriver.support.ui import WebDriverWait"
   ]
  },
  {
   "cell_type": "code",
   "execution_count": 2,
   "metadata": {},
   "outputs": [],
   "source": [
    "CODES = [\"IXA\",\"AGX\",\"AGR\",\"AMD\",\"AJL\",\"ATQ\",\"IXU\",\"AYJ\",\"IXB\",\"BEK\",\"IXG\",\"BLR\",\"BHO\",\"BBI\",\"IXC\",\"MAA\",\"CJB\",\"DBR\",\"DED\",\"DEL\",\"DGH\",\"DHM\",\"DIB\",\"DMU\",\"DIU\",\"RDP\",\"GAY\",\"GOI\",\"GDB\",\"GOP\",\"GAU\",\"GWL\",\"HSR\",\"HBX\",\"HYD\",\"IMF\",\"IDR\",\"HGI\",\"JLR\",\"JGB\",\"JAI\",\"JSA\",\"IXJ\",\"JRG\",\"JDH\",\"JRH\",\"CDP\",\"CNN\",\"KNU\",\"HJR\",\"COK\",\"KLH\",\"CCU\",\"CCJ\",\"KJB\",\"IXL\",\"LKO\",\"IXM\",\"IXE\",\"BOM\",\"MYQ\",\"NAG\",\"ISK\",\"GOX\",\"PGH\",\"PAT\",\"IXZ\",\"IXD\",\"PNQ\",\"RPR\",\"RJA\",\"RAJ\",\"IXR\",\"SXV\",\"SHL\",\"SAG\",\"RQY\",\"IXS\",\"SXR\",\"STV\",\"TRV\",\"TRZ\",\"TIR\",\"TCR\",\"UDR\",\"BDQ\",\"VNS\",\"VGA\",\"VTZ\"]"
   ]
  },
  {
   "cell_type": "code",
   "execution_count": 4,
   "metadata": {},
   "outputs": [],
   "source": [
    "def press_tab():\n",
    "    actions = ActionChains(driver)\n",
    "    actions.send_keys(Keys.TAB)\n",
    "    actions.perform()\n",
    "    time.sleep(1)\n",
    "\n",
    "def press_esc():\n",
    "    actions = ActionChains(driver)\n",
    "    actions.send_keys(Keys.ESCAPE)\n",
    "    actions.perform()\n",
    "    time.sleep(1)"
   ]
  },
  {
   "cell_type": "code",
   "execution_count": 5,
   "metadata": {},
   "outputs": [],
   "source": [
    "def get_today_date():\n",
    "    xpath = \"//*[@aria-label='Departure']\"\n",
    "    date = driver.find_element(By.XPATH, xpath)\n",
    "    return date.get_attribute(\"value\")[0:3]"
   ]
  },
  {
   "cell_type": "code",
   "execution_count": 6,
   "metadata": {},
   "outputs": [],
   "source": [
    "def get_next_date():    \n",
    "            button = WebDriverWait(driver, 5).until(\n",
    "                EC.element_to_be_clickable((By.XPATH, '/html/body/c-wiz[2]/div/div[2]/c-wiz/div[1]/c-wiz/div[2]/div[1]/div/div[2]/div[2]/div/div/div[1]/div/div/div[1]/div/div[1]/div/div[3]/button'))\n",
    "            )\n",
    "\n",
    "            # Click the button\n",
    "            button.click()\n",
    "\n",
    "            time.sleep(5)"
   ]
  },
  {
   "cell_type": "code",
   "execution_count": 7,
   "metadata": {},
   "outputs": [],
   "source": [
    "def get_count(from_city, to_city):\n",
    "    global driver\n",
    "    global counter\n",
    "    \n",
    "    # Open URL\n",
    "    url = \"https://www.google.com/travel/flights/search?tfs=CBwQAhomEgoyMDI0LTExLTEwKABqBwgBEgNCT01yDQgCEgkvbS8wMjJ0cTRAAUgBcAGCAQsI____________AZgBAg&tfu=EgYIAhAAGAA\"\n",
    "    driver.get(url)\n",
    "    time.sleep(1)\n",
    "    \n",
    "    # Fill From\n",
    "    from_box_xp = \"//*[@aria-label='Where from? Mumbai BOM']\" \n",
    "    from_box = driver.find_element(By.XPATH, from_box_xp)\n",
    "\n",
    "    from_box.send_keys(\"\\b\"*100 + from_city)\n",
    "    time.sleep(1)\n",
    "    press_tab()\n",
    "    press_tab()\n",
    "    \n",
    "    # Fill To\n",
    "    to_box_xp = \"//*[@aria-label='Where to?']\" \n",
    "    to_box = driver.find_element(By.XPATH, to_box_xp)\n",
    "\n",
    "    to_box.send_keys(\"\\b\"*100 + to_city)\n",
    "    time.sleep(1)\n",
    "    press_tab()\n",
    "    press_tab()\n",
    "    time.sleep(1)\n",
    "    press_esc()\n",
    "    \n",
    "    for ix in range(7):\n",
    "        # Get Count\n",
    "        try:\n",
    "            h3_element = driver.find_element(By.XPATH, '//h3[text()=\"All flights\"]')\n",
    "            ul_element = h3_element.find_element(By.XPATH, 'following-sibling::ul')\n",
    "            li_elements = ul_element.find_elements(By.TAG_NAME, 'li')\n",
    "            li_count = len(li_elements)\n",
    "        except Exception as e:\n",
    "            li_count = 0\n",
    "        day = get_today_date()\n",
    "        \n",
    "        # Update\n",
    "        info = from_city, to_city, day\n",
    "        counter[info] = li_count\n",
    "        print(info, li_count)\n",
    "        \n",
    "        # Next\n",
    "        get_next_date()\n",
    "    "
   ]
  },
  {
   "cell_type": "code",
   "execution_count": 8,
   "metadata": {},
   "outputs": [
    {
     "name": "stdout",
     "output_type": "stream",
     "text": [
      "('DEL', 'KNU', 'Sun') 1\n",
      "('DEL', 'KNU', 'Mon') 1\n",
      "('DEL', 'KNU', 'Tue') 1\n",
      "('DEL', 'KNU', 'Wed') 1\n",
      "('DEL', 'KNU', 'Thu') 1\n",
      "('DEL', 'KNU', 'Fri') 1\n",
      "('DEL', 'KNU', 'Sat') 1\n",
      "('DEL', 'BOM', 'Sun') 54\n",
      "('DEL', 'BOM', 'Mon') 0\n",
      "('DEL', 'BOM', 'Tue') 53\n",
      "('DEL', 'BOM', 'Wed') 54\n",
      "('DEL', 'BOM', 'Thu') 0\n",
      "('DEL', 'BOM', 'Fri') 54\n",
      "('DEL', 'BOM', 'Sat') 54\n",
      "('DEL', 'BLR', 'Sun') 37\n",
      "('DEL', 'BLR', 'Mon') 38\n",
      "('DEL', 'BLR', 'Tue') 37\n",
      "('DEL', 'BLR', 'Wed') 39\n",
      "('DEL', 'BLR', 'Thu') 37\n",
      "('DEL', 'BLR', 'Fri') 38\n",
      "('DEL', 'BLR', 'Sat') 37\n",
      "('KNU', 'DEL', 'Sun') 1\n",
      "('KNU', 'DEL', 'Mon') 1\n",
      "('KNU', 'DEL', 'Tue') 1\n",
      "('KNU', 'DEL', 'Wed') 1\n"
     ]
    },
    {
     "ename": "KeyboardInterrupt",
     "evalue": "",
     "output_type": "error",
     "traceback": [
      "\u001b[1;31m---------------------------------------------------------------------------\u001b[0m",
      "\u001b[1;31mKeyboardInterrupt\u001b[0m                         Traceback (most recent call last)",
      "Cell \u001b[1;32mIn[8], line 7\u001b[0m\n\u001b[0;32m      5\u001b[0m \u001b[38;5;28;01mfor\u001b[39;00m to_city \u001b[38;5;129;01min\u001b[39;00m CODES:\n\u001b[0;32m      6\u001b[0m     \u001b[38;5;28;01mif\u001b[39;00m from_city\u001b[38;5;241m!=\u001b[39mto_city:\n\u001b[1;32m----> 7\u001b[0m         \u001b[43mget_count\u001b[49m\u001b[43m(\u001b[49m\u001b[43mfrom_city\u001b[49m\u001b[43m,\u001b[49m\u001b[43m \u001b[49m\u001b[43mto_city\u001b[49m\u001b[43m)\u001b[49m\n",
      "Cell \u001b[1;32mIn[7], line 47\u001b[0m, in \u001b[0;36mget_count\u001b[1;34m(from_city, to_city)\u001b[0m\n\u001b[0;32m     44\u001b[0m \u001b[38;5;28mprint\u001b[39m(info, li_count)\n\u001b[0;32m     46\u001b[0m \u001b[38;5;66;03m# Next\u001b[39;00m\n\u001b[1;32m---> 47\u001b[0m \u001b[43mget_next_date\u001b[49m\u001b[43m(\u001b[49m\u001b[43m)\u001b[49m\n",
      "Cell \u001b[1;32mIn[6], line 9\u001b[0m, in \u001b[0;36mget_next_date\u001b[1;34m()\u001b[0m\n\u001b[0;32m      6\u001b[0m \u001b[38;5;66;03m# Click the button\u001b[39;00m\n\u001b[0;32m      7\u001b[0m button\u001b[38;5;241m.\u001b[39mclick()\n\u001b[1;32m----> 9\u001b[0m time\u001b[38;5;241m.\u001b[39msleep(\u001b[38;5;241m5\u001b[39m)\n",
      "\u001b[1;31mKeyboardInterrupt\u001b[0m: "
     ]
    }
   ],
   "source": [
    "driver = webdriver.Chrome()\n",
    "driver.maximize_window()\n",
    "counter = {}\n",
    "for from_city in CODES:\n",
    "    for to_city in CODES:\n",
    "        if from_city!=to_city:\n",
    "            get_count(from_city, to_city)"
   ]
  },
  {
   "cell_type": "code",
   "execution_count": 13,
   "metadata": {},
   "outputs": [],
   "source": [
    "import dill\n",
    "with open('data.dill', 'wb') as f:\n",
    "    dill.dump(counter, f)"
   ]
  },
  {
   "cell_type": "code",
   "execution_count": null,
   "metadata": {},
   "outputs": [],
   "source": []
  }
 ],
 "metadata": {
  "kernelspec": {
   "display_name": ".venv",
   "language": "python",
   "name": "python3"
  },
  "language_info": {
   "codemirror_mode": {
    "name": "ipython",
    "version": 3
   },
   "file_extension": ".py",
   "mimetype": "text/x-python",
   "name": "python",
   "nbconvert_exporter": "python",
   "pygments_lexer": "ipython3",
   "version": "3.11.0"
  }
 },
 "nbformat": 4,
 "nbformat_minor": 2
}
