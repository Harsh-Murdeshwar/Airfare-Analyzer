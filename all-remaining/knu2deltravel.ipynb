{
 "cells": [
  {
   "cell_type": "code",
   "execution_count": 1,
   "metadata": {},
   "outputs": [],
   "source": [
    "import time\n",
    "import selenium\n",
    "from selenium import webdriver\n",
    "from selenium.webdriver.common.by import By\n",
    "from selenium.webdriver.common.keys import Keys\n",
    "from selenium.webdriver import ActionChains\n",
    "from selenium.webdriver.chrome import options as ChromeOptions\n",
    "from selenium.webdriver.support import expected_conditions\n",
    "import pandas as pd\n",
    "from selenium.webdriver.support.ui import WebDriverWait\n",
    "from selenium.webdriver.support import expected_conditions as EC"
   ]
  },
  {
   "cell_type": "code",
   "execution_count": 2,
   "metadata": {},
   "outputs": [],
   "source": [
    "driver = webdriver.Chrome()\n",
    "driver.maximize_window()"
   ]
  },
  {
   "cell_type": "code",
   "execution_count": 3,
   "metadata": {},
   "outputs": [],
   "source": [
    "NUM_DAYS = 365\n",
    "Title = \"knu_to_del\""
   ]
  },
  {
   "cell_type": "code",
   "execution_count": 4,
   "metadata": {},
   "outputs": [],
   "source": [
    "url = \"https://www.google.com/travel/flights/search?tfs=CBwQAhogEgoyMDI0LTA5LTEzKABqBwgBEgNLTlVyBwgBEgNERUxAAUgBcAGCAQsI____________AZgBAg&hl=en&gl=in&curr=INR\"\n",
    "driver.get(url)"
   ]
  },
  {
   "cell_type": "code",
   "execution_count": null,
   "metadata": {},
   "outputs": [],
   "source": [
    "button = WebDriverWait(driver, 5).until(\n",
    "    EC.element_to_be_clickable((By.XPATH, '/html/body/c-wiz[2]/div/div[2]/c-wiz/div[1]/c-wiz/div[2]/div[1]/div/div[2]/div[2]/div/div/div[1]/div/div/div[1]/div/div[1]/div/div[3]/button'))\n",
    ")\n",
    "\n",
    "# Click the button\n",
    "button.click()\n",
    "\n",
    "time.sleep(5)"
   ]
  },
  {
   "cell_type": "code",
   "execution_count": 5,
   "metadata": {},
   "outputs": [],
   "source": [
    "time.sleep(5)"
   ]
  },
  {
   "cell_type": "code",
   "execution_count": 7,
   "metadata": {},
   "outputs": [],
   "source": [
    "# Open Price Graph\n",
    "price_graph_button_xp = \"//span[text()='Price graph']\"\n",
    "price_graph_button = driver.find_element(By.XPATH, price_graph_button_xp)\n",
    "price_graph_button.click()"
   ]
  },
  {
   "cell_type": "code",
   "execution_count": null,
   "metadata": {},
   "outputs": [],
   "source": [
    "time.sleep(5)"
   ]
  },
  {
   "cell_type": "code",
   "execution_count": null,
   "metadata": {},
   "outputs": [],
   "source": [
    "price_details = set()\n",
    "\n",
    "old_size = 0\n",
    "\n",
    "while len(price_details) < NUM_DAYS:\n",
    "    \n",
    "    # Get all bars\n",
    "    price_bar_xp = \"//*[@series-id='price graph']/*\"\n",
    "    price_bars = driver.find_elements(By.XPATH, price_bar_xp)\n",
    "\n",
    "    # Add value corresponding to bar\n",
    "    for price_bar in price_bars:\n",
    "        ActionChains(driver).move_to_element(price_bar).perform()\n",
    "        price_detail_label_xp = \"//*[text()='One-way trip']\"\n",
    "        price_detail_labels = driver.find_elements(By.XPATH, price_detail_label_xp)\n",
    "        for price_detail_label in price_detail_labels:\n",
    "            price_detail_box = price_detail_label.find_element(By.XPATH, \"./..\")\n",
    "            price_detail = price_detail_box.text\n",
    "            price_details.add(price_detail)\n",
    "          \n",
    "    # Go to next month\n",
    "    next_month_button_xp = \"//*[@aria-label='Scroll forward']\"\n",
    "    next_month_button = driver.find_element(By.XPATH, next_month_button_xp)\n",
    "    next_month_button.click()\n",
    "    \n",
    "    time.sleep(1)\n",
    "    \n",
    "    if len(price_details) == old_size:\n",
    "        break\n",
    "    \n",
    "    old_size = len(price_details)"
   ]
  },
  {
   "cell_type": "code",
   "execution_count": null,
   "metadata": {},
   "outputs": [],
   "source": [
    "from datetime import date\n",
    "df = pd.DataFrame(price_details)\n",
    "df.to_csv(\"travel_day_data/\" + Title + \"_travel_day_\" + str(date.today()) + \".csv\", index=False, header=False)"
   ]
  },
  {
   "cell_type": "code",
   "execution_count": null,
   "metadata": {},
   "outputs": [],
   "source": [
    "driver.close()"
   ]
  },
  {
   "cell_type": "code",
   "execution_count": null,
   "metadata": {},
   "outputs": [],
   "source": []
  }
 ],
 "metadata": {
  "kernelspec": {
   "display_name": ".venv",
   "language": "python",
   "name": "python3"
  },
  "language_info": {
   "codemirror_mode": {
    "name": "ipython",
    "version": 3
   },
   "file_extension": ".py",
   "mimetype": "text/x-python",
   "name": "python",
   "nbconvert_exporter": "python",
   "pygments_lexer": "ipython3",
   "version": "3.11.0"
  }
 },
 "nbformat": 4,
 "nbformat_minor": 2
}
