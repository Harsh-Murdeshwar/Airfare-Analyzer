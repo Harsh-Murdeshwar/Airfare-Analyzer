{
 "cells": [
  {
   "cell_type": "code",
   "execution_count": 1,
   "metadata": {},
   "outputs": [],
   "source": [
    "import time\n",
    "import selenium\n",
    "from selenium import webdriver\n",
    "from selenium.webdriver.common.by import By\n",
    "from selenium.webdriver.common.keys import Keys\n",
    "from selenium.webdriver import ActionChains\n",
    "from selenium.webdriver.chrome import options as ChromeOptions"
   ]
  },
  {
   "cell_type": "code",
   "execution_count": 10,
   "metadata": {},
   "outputs": [],
   "source": [
    "CITIES = [\"New Delhi\",  \"Mumbai Maharashtra\", \"Bengaluru, Karnataka\"]\n",
    "CITY = [\"Kanpur, Uttar Pradesh\"]\n",
    "city_to_code = {\n",
    "    \"Kanpur, Uttar Pradesh\": \"Kanpur Airport Chakeri (KNU)\"\n",
    "}"
   ]
  },
  {
   "cell_type": "code",
   "execution_count": 3,
   "metadata": {},
   "outputs": [],
   "source": [
    "driver = webdriver.Chrome()\n",
    "driver.maximize_window()"
   ]
  },
  {
   "cell_type": "code",
   "execution_count": 4,
   "metadata": {},
   "outputs": [],
   "source": [
    "NUM_DAYS = 30"
   ]
  },
  {
   "cell_type": "code",
   "execution_count": 16,
   "metadata": {},
   "outputs": [],
   "source": [
    "url = \"https://www.google.com/travel/flights\"\n",
    "driver.get(url)\n",
    "time.sleep(1)\n",
    "driver.execute_script(\"document.body.style.zoom='50%'\")\n",
    "time.sleep(1)"
   ]
  },
  {
   "cell_type": "code",
   "execution_count": 17,
   "metadata": {},
   "outputs": [],
   "source": [
    "from_city = CITY[0]\n",
    "to_city = CITIES[0]"
   ]
  },
  {
   "cell_type": "code",
   "execution_count": 18,
   "metadata": {},
   "outputs": [
    {
     "ename": "InvalidSelectorException",
     "evalue": "Message: invalid selector\nfrom javascript error: {\"status\":32,\"value\":\"Unable to locate an element with the xpath expression //*[contains(@aria-label,'Kanpur Airport Chakeri (KNU)'] because of the following error:\\nSyntaxError: Failed to execute 'evaluate' on 'Document': The string '//*[contains(@aria-label,'Kanpur Airport Chakeri (KNU)']' is not a valid XPath expression.\"}\n  (Session info: chrome=129.0.6668.89); For documentation on this error, please visit: https://www.selenium.dev/documentation/webdriver/troubleshooting/errors#invalid-selector-exception\nStacktrace:\n\tGetHandleVerifier [0x00007FF6F742B645+29573]\n\t(No symbol) [0x00007FF6F73A0470]\n\t(No symbol) [0x00007FF6F725B6EA]\n\t(No symbol) [0x00007FF6F72622BE]\n\t(No symbol) [0x00007FF6F7264637]\n\t(No symbol) [0x00007FF6F72646F0]\n\t(No symbol) [0x00007FF6F72AF38F]\n\t(No symbol) [0x00007FF6F72AFA6C]\n\t(No symbol) [0x00007FF6F72FB917]\n\t(No symbol) [0x00007FF6F72D733F]\n\t(No symbol) [0x00007FF6F72F86BC]\n\t(No symbol) [0x00007FF6F72D70A3]\n\t(No symbol) [0x00007FF6F72A12DF]\n\t(No symbol) [0x00007FF6F72A2441]\n\tGetHandleVerifier [0x00007FF6F775C58D+3375821]\n\tGetHandleVerifier [0x00007FF6F77A7987+3684039]\n\tGetHandleVerifier [0x00007FF6F779CDAB+3640043]\n\tGetHandleVerifier [0x00007FF6F74EB7C6+816390]\n\t(No symbol) [0x00007FF6F73AB77F]\n\t(No symbol) [0x00007FF6F73A75A4]\n\t(No symbol) [0x00007FF6F73A7740]\n\t(No symbol) [0x00007FF6F739659F]\n\tBaseThreadInitThunk [0x00007FFC652F257D+29]\n\tRtlUserThreadStart [0x00007FFC669EAF28+40]\n",
     "output_type": "error",
     "traceback": [
      "\u001b[1;31m---------------------------------------------------------------------------\u001b[0m",
      "\u001b[1;31mInvalidSelectorException\u001b[0m                  Traceback (most recent call last)",
      "Cell \u001b[1;32mIn[18], line 9\u001b[0m\n\u001b[0;32m      7\u001b[0m from_code \u001b[38;5;241m=\u001b[39m city_to_code[from_city]\n\u001b[0;32m      8\u001b[0m from_city_option_xp \u001b[38;5;241m=\u001b[39m \u001b[38;5;124m\"\u001b[39m\u001b[38;5;124m//*[contains(@aria-label,\u001b[39m\u001b[38;5;124m'\u001b[39m\u001b[38;5;132;01m{}\u001b[39;00m\u001b[38;5;124m'\u001b[39m\u001b[38;5;124m]\u001b[39m\u001b[38;5;124m\"\u001b[39m\u001b[38;5;241m.\u001b[39mformat(from_code)\n\u001b[1;32m----> 9\u001b[0m from_city_option \u001b[38;5;241m=\u001b[39m \u001b[43mdriver\u001b[49m\u001b[38;5;241;43m.\u001b[39;49m\u001b[43mfind_element\u001b[49m\u001b[43m(\u001b[49m\u001b[43mBy\u001b[49m\u001b[38;5;241;43m.\u001b[39;49m\u001b[43mXPATH\u001b[49m\u001b[43m,\u001b[49m\u001b[43m \u001b[49m\u001b[43mfrom_city_option_xp\u001b[49m\u001b[43m)\u001b[49m\n\u001b[0;32m     10\u001b[0m from_city_option\u001b[38;5;241m.\u001b[39mclick()\n",
      "File \u001b[1;32mc:\\Shubham\\B-Tech\\Study\\Academics\\Semester 7\\CS 685\\Project\\.venv\\Lib\\site-packages\\selenium\\webdriver\\remote\\webdriver.py:748\u001b[0m, in \u001b[0;36mWebDriver.find_element\u001b[1;34m(self, by, value)\u001b[0m\n\u001b[0;32m    745\u001b[0m     by \u001b[38;5;241m=\u001b[39m By\u001b[38;5;241m.\u001b[39mCSS_SELECTOR\n\u001b[0;32m    746\u001b[0m     value \u001b[38;5;241m=\u001b[39m \u001b[38;5;124mf\u001b[39m\u001b[38;5;124m'\u001b[39m\u001b[38;5;124m[name=\u001b[39m\u001b[38;5;124m\"\u001b[39m\u001b[38;5;132;01m{\u001b[39;00mvalue\u001b[38;5;132;01m}\u001b[39;00m\u001b[38;5;124m\"\u001b[39m\u001b[38;5;124m]\u001b[39m\u001b[38;5;124m'\u001b[39m\n\u001b[1;32m--> 748\u001b[0m \u001b[38;5;28;01mreturn\u001b[39;00m \u001b[38;5;28;43mself\u001b[39;49m\u001b[38;5;241;43m.\u001b[39;49m\u001b[43mexecute\u001b[49m\u001b[43m(\u001b[49m\u001b[43mCommand\u001b[49m\u001b[38;5;241;43m.\u001b[39;49m\u001b[43mFIND_ELEMENT\u001b[49m\u001b[43m,\u001b[49m\u001b[43m \u001b[49m\u001b[43m{\u001b[49m\u001b[38;5;124;43m\"\u001b[39;49m\u001b[38;5;124;43musing\u001b[39;49m\u001b[38;5;124;43m\"\u001b[39;49m\u001b[43m:\u001b[49m\u001b[43m \u001b[49m\u001b[43mby\u001b[49m\u001b[43m,\u001b[49m\u001b[43m \u001b[49m\u001b[38;5;124;43m\"\u001b[39;49m\u001b[38;5;124;43mvalue\u001b[39;49m\u001b[38;5;124;43m\"\u001b[39;49m\u001b[43m:\u001b[49m\u001b[43m \u001b[49m\u001b[43mvalue\u001b[49m\u001b[43m}\u001b[49m\u001b[43m)\u001b[49m[\u001b[38;5;124m\"\u001b[39m\u001b[38;5;124mvalue\u001b[39m\u001b[38;5;124m\"\u001b[39m]\n",
      "File \u001b[1;32mc:\\Shubham\\B-Tech\\Study\\Academics\\Semester 7\\CS 685\\Project\\.venv\\Lib\\site-packages\\selenium\\webdriver\\remote\\webdriver.py:354\u001b[0m, in \u001b[0;36mWebDriver.execute\u001b[1;34m(self, driver_command, params)\u001b[0m\n\u001b[0;32m    352\u001b[0m response \u001b[38;5;241m=\u001b[39m \u001b[38;5;28mself\u001b[39m\u001b[38;5;241m.\u001b[39mcommand_executor\u001b[38;5;241m.\u001b[39mexecute(driver_command, params)\n\u001b[0;32m    353\u001b[0m \u001b[38;5;28;01mif\u001b[39;00m response:\n\u001b[1;32m--> 354\u001b[0m     \u001b[38;5;28;43mself\u001b[39;49m\u001b[38;5;241;43m.\u001b[39;49m\u001b[43merror_handler\u001b[49m\u001b[38;5;241;43m.\u001b[39;49m\u001b[43mcheck_response\u001b[49m\u001b[43m(\u001b[49m\u001b[43mresponse\u001b[49m\u001b[43m)\u001b[49m\n\u001b[0;32m    355\u001b[0m     response[\u001b[38;5;124m\"\u001b[39m\u001b[38;5;124mvalue\u001b[39m\u001b[38;5;124m\"\u001b[39m] \u001b[38;5;241m=\u001b[39m \u001b[38;5;28mself\u001b[39m\u001b[38;5;241m.\u001b[39m_unwrap_value(response\u001b[38;5;241m.\u001b[39mget(\u001b[38;5;124m\"\u001b[39m\u001b[38;5;124mvalue\u001b[39m\u001b[38;5;124m\"\u001b[39m, \u001b[38;5;28;01mNone\u001b[39;00m))\n\u001b[0;32m    356\u001b[0m     \u001b[38;5;28;01mreturn\u001b[39;00m response\n",
      "File \u001b[1;32mc:\\Shubham\\B-Tech\\Study\\Academics\\Semester 7\\CS 685\\Project\\.venv\\Lib\\site-packages\\selenium\\webdriver\\remote\\errorhandler.py:229\u001b[0m, in \u001b[0;36mErrorHandler.check_response\u001b[1;34m(self, response)\u001b[0m\n\u001b[0;32m    227\u001b[0m         alert_text \u001b[38;5;241m=\u001b[39m value[\u001b[38;5;124m\"\u001b[39m\u001b[38;5;124malert\u001b[39m\u001b[38;5;124m\"\u001b[39m]\u001b[38;5;241m.\u001b[39mget(\u001b[38;5;124m\"\u001b[39m\u001b[38;5;124mtext\u001b[39m\u001b[38;5;124m\"\u001b[39m)\n\u001b[0;32m    228\u001b[0m     \u001b[38;5;28;01mraise\u001b[39;00m exception_class(message, screen, stacktrace, alert_text)  \u001b[38;5;66;03m# type: ignore[call-arg]  # mypy is not smart enough here\u001b[39;00m\n\u001b[1;32m--> 229\u001b[0m \u001b[38;5;28;01mraise\u001b[39;00m exception_class(message, screen, stacktrace)\n",
      "\u001b[1;31mInvalidSelectorException\u001b[0m: Message: invalid selector\nfrom javascript error: {\"status\":32,\"value\":\"Unable to locate an element with the xpath expression //*[contains(@aria-label,'Kanpur Airport Chakeri (KNU)'] because of the following error:\\nSyntaxError: Failed to execute 'evaluate' on 'Document': The string '//*[contains(@aria-label,'Kanpur Airport Chakeri (KNU)']' is not a valid XPath expression.\"}\n  (Session info: chrome=129.0.6668.89); For documentation on this error, please visit: https://www.selenium.dev/documentation/webdriver/troubleshooting/errors#invalid-selector-exception\nStacktrace:\n\tGetHandleVerifier [0x00007FF6F742B645+29573]\n\t(No symbol) [0x00007FF6F73A0470]\n\t(No symbol) [0x00007FF6F725B6EA]\n\t(No symbol) [0x00007FF6F72622BE]\n\t(No symbol) [0x00007FF6F7264637]\n\t(No symbol) [0x00007FF6F72646F0]\n\t(No symbol) [0x00007FF6F72AF38F]\n\t(No symbol) [0x00007FF6F72AFA6C]\n\t(No symbol) [0x00007FF6F72FB917]\n\t(No symbol) [0x00007FF6F72D733F]\n\t(No symbol) [0x00007FF6F72F86BC]\n\t(No symbol) [0x00007FF6F72D70A3]\n\t(No symbol) [0x00007FF6F72A12DF]\n\t(No symbol) [0x00007FF6F72A2441]\n\tGetHandleVerifier [0x00007FF6F775C58D+3375821]\n\tGetHandleVerifier [0x00007FF6F77A7987+3684039]\n\tGetHandleVerifier [0x00007FF6F779CDAB+3640043]\n\tGetHandleVerifier [0x00007FF6F74EB7C6+816390]\n\t(No symbol) [0x00007FF6F73AB77F]\n\t(No symbol) [0x00007FF6F73A75A4]\n\t(No symbol) [0x00007FF6F73A7740]\n\t(No symbol) [0x00007FF6F739659F]\n\tBaseThreadInitThunk [0x00007FFC652F257D+29]\n\tRtlUserThreadStart [0x00007FFC669EAF28+40]\n"
     ]
    }
   ],
   "source": [
    "from_box_xp = \"//*[@aria-label='Where from?']\" \n",
    "from_box = driver.find_element(By.XPATH, from_box_xp)\n",
    "\n",
    "from_box.send_keys(\"\\b\"*100 + from_city)\n",
    "time.sleep(1)\n",
    "\n",
    "from_code = city_to_code[from_city]\n",
    "from_city_option_xp = \"//*[contains(@aria-label,'{}']\".format(from_code)\n",
    "from_city_option = driver.find_element(By.XPATH, from_city_option_xp)\n",
    "from_city_option.click()"
   ]
  },
  {
   "cell_type": "code",
   "execution_count": null,
   "metadata": {},
   "outputs": [],
   "source": [
    "to_box_xp = \"//*[@aria-label='Where to? ']\" \n",
    "to_box = driver.find_element(By.XPATH, to_box_xp)\n",
    "\n",
    "to_box.send_keys(\"\\b\"*100 + to_city)\n",
    "time.sleep(1)\n",
    "\n",
    "to_code = city_to_code[to_city]\n",
    "to_city_option_xp = \"//*[@aria-label='{}']\".format(to_code)\n",
    "to_city_option = driver.find_element(By.XPATH, to_city_option_xp)\n",
    "to_city_option.click()"
   ]
  },
  {
   "cell_type": "code",
   "execution_count": null,
   "metadata": {},
   "outputs": [],
   "source": []
  }
 ],
 "metadata": {
  "kernelspec": {
   "display_name": ".venv",
   "language": "python",
   "name": "python3"
  },
  "language_info": {
   "codemirror_mode": {
    "name": "ipython",
    "version": 3
   },
   "file_extension": ".py",
   "mimetype": "text/x-python",
   "name": "python",
   "nbconvert_exporter": "python",
   "pygments_lexer": "ipython3",
   "version": "3.11.0"
  }
 },
 "nbformat": 4,
 "nbformat_minor": 2
}
